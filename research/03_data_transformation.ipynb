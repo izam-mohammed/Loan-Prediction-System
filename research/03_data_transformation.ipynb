{
 "cells": [
  {
   "cell_type": "code",
   "execution_count": 1,
   "metadata": {},
   "outputs": [
    {
     "data": {
      "text/plain": [
       "'/home/izam/coding/Loan-Prediction-System'"
      ]
     },
     "execution_count": 1,
     "metadata": {},
     "output_type": "execute_result"
    }
   ],
   "source": [
    "import os\n",
    "os.chdir(\"../\")\n",
    "os.getcwd()"
   ]
  },
  {
   "cell_type": "code",
   "execution_count": 2,
   "metadata": {},
   "outputs": [],
   "source": [
    "from dataclasses import dataclass\n",
    "from pathlib import Path\n",
    "\n",
    "# enitity\n",
    "@dataclass(frozen=True)\n",
    "class DataTransformationConfig:\n",
    "    root_dir: Path\n",
    "    data_path: Path\n",
    "    encoder_name: str\n",
    "    test_size: float\n",
    "    all_cols: list"
   ]
  },
  {
   "cell_type": "code",
   "execution_count": 3,
   "metadata": {},
   "outputs": [],
   "source": [
    "from sentimentAnalysis.constants import *\n",
    "from sentimentAnalysis.utils.common import read_yaml, create_directories"
   ]
  },
  {
   "cell_type": "code",
   "execution_count": 4,
   "metadata": {},
   "outputs": [],
   "source": [
    "class ConfigurationManager:\n",
    "    def __init__(\n",
    "        self,\n",
    "        config_filepath = CONFIG_FILE_PATH,\n",
    "        params_filepath = PARAMS_FILE_PATH,\n",
    "        schema_filepath = SCHEMA_FILE_PATH):\n",
    "\n",
    "        self.config = read_yaml(config_filepath)\n",
    "        self.params = read_yaml(params_filepath)\n",
    "        self.schema = read_yaml(schema_filepath)\n",
    "\n",
    "        create_directories([self.config.artifacts_root])\n",
    "\n",
    "\n",
    "    \n",
    "    def get_data_transformation_config(self) -> DataTransformationConfig:\n",
    "        config = self.config.data_transformation\n",
    "        all_cols = list(self.schema.COLUMNS.keys())\n",
    "\n",
    "        create_directories([config.root_dir])\n",
    "\n",
    "        data_transformation_config = DataTransformationConfig(\n",
    "            root_dir=config.root_dir,\n",
    "            data_path=config.data_path,\n",
    "            encoder_name=config.encoder_name,\n",
    "            test_size=config.test_size,\n",
    "            all_cols=all_cols,\n",
    "        )\n",
    "\n",
    "        return data_transformation_config"
   ]
  },
  {
   "cell_type": "code",
   "execution_count": 5,
   "metadata": {},
   "outputs": [],
   "source": [
    "import pandas as pd\n",
    "from sklearn.preprocessing import OrdinalEncoder\n",
    "from loanPrediction.utils.common import save_bin\n",
    "from pathlib import Path\n",
    "from sklearn.model_selection import train_test_split  \n",
    "from loanPrediction import logger"
   ]
  },
  {
   "cell_type": "code",
   "execution_count": 6,
   "metadata": {},
   "outputs": [],
   "source": [
    "class DataTransformation:\n",
    "    def __init__(self, config: DataTransformationConfig):\n",
    "        self.config = config\n",
    "\n",
    "    def transform_data(self):\n",
    "        data = pd.read_csv(self.config.data_path)\n",
    "        \n",
    "        # take only needed cols:\n",
    "        data = data[self.config.all_cols]\n",
    "\n",
    "        # impute categorical data\n",
    "        cols = data[[\"Gender\", \"Married\", \"Self_Employed\", \"Education\", \"Credit_History\", \"Property_Area\"]] \n",
    "        for  i in cols: \n",
    "            data[i].fillna(data[i].mode().iloc[0], inplace=True)\n",
    "\n",
    "        # impute the numerical data\n",
    "        n_cols = data[[\"LoanAmount\", \"Loan_Amount_Term\", \"CoapplicantIncome\", \"ApplicantIncome\"]] \n",
    "        for i in n_cols: \n",
    "            data[i].fillna(data[i].mean(axis=0), inplace=True)\n",
    "\n",
    "        # drop rows don't have target\n",
    "        if data.isna().any().any():\n",
    "            data.dropna(inplace=True)\n",
    "\n",
    "        # Transform data\n",
    "        object_cols = [\"Gender\",'Married','Education','Self_Employed','Property_Area','Loan_Status']\n",
    "        encoder = OrdinalEncoder()\n",
    "        data[object_cols] = encoder.fit_transform(data[object_cols])\n",
    "        save_bin(data=encoder, path=Path(os.path.join(self.config.root_dir, self.config.encoder_name)))\n",
    "        data.to_csv(os.path.join(self.config.root_dir, \"encoded_data.csv\"), index=False)\n",
    "        \n",
    "\n",
    "    def split_data(self):\n",
    "        data = pd.read_csv(os.path.join(self.config.root_dir, \"encoded_data.csv\"))\n",
    "        \n",
    "        X = data.drop(\"Loan_Status\", axis=1) \n",
    "        y = data[\"Loan_Status\"] \n",
    "\n",
    "        X_train, X_test, y_train, y_test = train_test_split(X,y,test_size=0.2, random_state=2) \n",
    "\n",
    "        train = pd.concat([X_train, y_train], axis=1)\n",
    "        test = pd.concat([X_test, y_test], axis=1)\n",
    "\n",
    "        train.to_csv(os.path.join(self.config.root_dir, \"train.csv\"),index = False)\n",
    "        test.to_csv(os.path.join(self.config.root_dir, \"test.csv\"),index = False)\n",
    "\n",
    "        logger.info(\"Splited data into training and test sets\")\n",
    "        logger.info(train.shape)\n",
    "        logger.info(test.shape)"
   ]
  },
  {
   "cell_type": "code",
   "execution_count": 7,
   "metadata": {},
   "outputs": [
    {
     "name": "stdout",
     "output_type": "stream",
     "text": [
      "[2023-12-11 13:20:48,655: INFO: common: yaml file: config/config.yaml loaded successfully]\n",
      "[2023-12-11 13:20:48,659: INFO: common: yaml file: params.yaml loaded successfully]\n",
      "[2023-12-11 13:20:48,663: INFO: common: yaml file: schema.yaml loaded successfully]\n",
      "[2023-12-11 13:20:48,664: INFO: common: created directory at: artifacts]\n",
      "[2023-12-11 13:20:48,665: INFO: common: created directory at: artifacts/data_transformation]\n",
      "[2023-12-11 13:20:48,680: INFO: common: binary file saved at: artifacts/data_transformation/encoder.joblib]\n",
      "[2023-12-11 13:20:48,704: INFO: 421386631: Splited data into training and test sets]\n",
      "[2023-12-11 13:20:48,706: INFO: 421386631: (491, 11)]\n",
      "[2023-12-11 13:20:48,706: INFO: 421386631: (123, 11)]\n"
     ]
    }
   ],
   "source": [
    "try:\n",
    "    config = ConfigurationManager()\n",
    "    data_transformation_config = config.get_data_transformation_config()\n",
    "    data_transformation = DataTransformation(config=data_transformation_config)\n",
    "    data_transformation.transform_data()\n",
    "    data_transformation.split_data()\n",
    "except Exception as e:\n",
    "    raise e"
   ]
  }
 ],
 "metadata": {
  "kernelspec": {
   "display_name": "loanpred",
   "language": "python",
   "name": "python3"
  },
  "language_info": {
   "codemirror_mode": {
    "name": "ipython",
    "version": 3
   },
   "file_extension": ".py",
   "mimetype": "text/x-python",
   "name": "python",
   "nbconvert_exporter": "python",
   "pygments_lexer": "ipython3",
   "version": "3.8.18"
  }
 },
 "nbformat": 4,
 "nbformat_minor": 2
}
