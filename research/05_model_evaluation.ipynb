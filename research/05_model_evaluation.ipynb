{
 "cells": [
  {
   "cell_type": "code",
   "execution_count": 1,
   "metadata": {},
   "outputs": [
    {
     "data": {
      "text/plain": [
       "'/home/izam/coding/Loan-Prediction-System'"
      ]
     },
     "execution_count": 1,
     "metadata": {},
     "output_type": "execute_result"
    }
   ],
   "source": [
    "import os\n",
    "os.chdir(\"../\")\n",
    "os.getcwd()"
   ]
  },
  {
   "cell_type": "code",
   "execution_count": 2,
   "metadata": {},
   "outputs": [],
   "source": [
    "from dataclasses import dataclass\n",
    "from pathlib import Path\n",
    "\n",
    "\n",
    "@dataclass(frozen=True)\n",
    "class ModelEvaluationConfig:\n",
    "    root_dir: Path\n",
    "    test_data_path: Path\n",
    "    model_path: Path\n",
    "    target_column: str\n",
    "    models_dir: str"
   ]
  },
  {
   "cell_type": "code",
   "execution_count": 3,
   "metadata": {},
   "outputs": [],
   "source": [
    "from loanPrediction.constants import *\n",
    "from loanPrediction.utils.common import read_yaml, create_directories, save_json"
   ]
  },
  {
   "cell_type": "code",
   "execution_count": 4,
   "metadata": {},
   "outputs": [],
   "source": [
    "class ConfigurationManager:\n",
    "    def __init__(\n",
    "        self,\n",
    "        config_filepath = CONFIG_FILE_PATH,\n",
    "        params_filepath = PARAMS_FILE_PATH,\n",
    "        schema_filepath = SCHEMA_FILE_PATH):\n",
    "\n",
    "        self.config = read_yaml(config_filepath)\n",
    "        self.params = read_yaml(params_filepath)\n",
    "        self.schema = read_yaml(schema_filepath)\n",
    "\n",
    "        create_directories([self.config.artifacts_root])\n",
    "\n",
    "    \n",
    "    def get_model_evaluation_config(self) -> ModelEvaluationConfig:\n",
    "        config = self.config.model_evaluation\n",
    "        schema =  self.schema.TARGET_COLUMN\n",
    "\n",
    "        create_directories([config.root_dir])\n",
    "\n",
    "        model_evaluation_config = ModelEvaluationConfig(\n",
    "            root_dir=config.root_dir,\n",
    "            test_data_path=config.test_data_path,\n",
    "            model_path = config.model_path,\n",
    "            target_column = schema.name,\n",
    "            models_dir = config.models_dir,\n",
    "           \n",
    "        )\n",
    "\n",
    "        return model_evaluation_config"
   ]
  },
  {
   "cell_type": "code",
   "execution_count": 5,
   "metadata": {},
   "outputs": [],
   "source": [
    "import os\n",
    "import pandas as pd\n",
    "from sklearn.metrics import accuracy_score, precision_score, recall_score, f1_score, roc_auc_score, roc_curve, auc\n",
    "from sklearn.metrics import confusion_matrix\n",
    "from loanPrediction.utils.common import load_bin, save_json, round_batch\n",
    "from loanPrediction import logger\n",
    "import matplotlib.pyplot as plt\n",
    "import seaborn as sns"
   ]
  },
  {
   "cell_type": "code",
   "execution_count": 6,
   "metadata": {},
   "outputs": [],
   "source": [
    "class ModelEvaluation:\n",
    "    def __init__(self, config: ModelEvaluationConfig):\n",
    "        self.config = config\n",
    "    \n",
    "\n",
    "    def _eval_metrics(self,actual, pred, dir):\n",
    "        acc = accuracy_score(actual, pred)\n",
    "        precision = precision_score(actual, pred)\n",
    "        recall = recall_score(actual, pred)\n",
    "        f1 = f1_score(actual, pred)\n",
    "        rocauc_score = roc_auc_score(actual, pred)\n",
    "\n",
    "        acc, precision, recall, f1, rocauc_score = round_batch(acc, precision, recall, f1, rocauc_score)\n",
    "\n",
    "        metric = {\n",
    "            \"Accuracy\" : acc,\n",
    "            \"Precision\" : precision,\n",
    "            \"Recall\": recall,\n",
    "            \"F1 score\": f1,\n",
    "            \"roc auc score\": rocauc_score,\n",
    "        }\n",
    "        logger.info(f\"metrics are - {metric}\")\n",
    "\n",
    "        save_json(path=Path(os.path.join(dir, \"metirc.json\")), data=metric)\n",
    "    \n",
    "    \n",
    "    def _eval_pics(self, actual, pred_proba, dir):\n",
    "        logger.info(actual.shape)\n",
    "        fpr, tpr, thresholds = roc_curve(actual, pred_proba)\n",
    "        roc_auc = auc(fpr, tpr)\n",
    "\n",
    "        # Plot ROC curve\n",
    "        plt.figure(figsize=(8, 6))\n",
    "        plt.plot(fpr, tpr, color='darkorange', lw=2, label='ROC curve (AUC = {:.2f})'.format(roc_auc))\n",
    "        plt.plot([0, 1], [0, 1], color='navy', lw=2, linestyle='--', label='Random Guessing')\n",
    "        plt.xlabel('False Positive Rate (FPR)')\n",
    "        plt.ylabel('True Positive Rate (TPR)')\n",
    "        plt.title('Receiver Operating Characteristic (ROC) Curve')\n",
    "        plt.legend(loc='lower right')\n",
    "\n",
    "        plt.savefig(os.path.join(dir, \"roc_curve.png\"))\n",
    "        plt.close()\n",
    "        logger.info(f\"Saved the ROC curve image at {os.path.join(dir, 'roc_curve.png')}\")\n",
    "\n",
    "        #confusion matrix\n",
    "        y_pred = (pred_proba > 0.5).astype(int)\n",
    "        cm = confusion_matrix(actual, y_pred)\n",
    "        plt.figure(figsize=(8, 6))\n",
    "        sns.heatmap(cm, annot=True, fmt='d', cmap='Blues', annot_kws={\"size\": 16})\n",
    "        plt.xlabel('Predicted Labels')\n",
    "        plt.ylabel('True Labels')\n",
    "        plt.title('Confusion Matrix')\n",
    "\n",
    "        plt.savefig(os.path.join(dir, \"confusion_matrix.png\"))\n",
    "        plt.close()\n",
    "        logger.info(f\"Saved the cunfusion matrix image at {os.path.join(dir, 'confusion_matrix.png')}\")\n",
    "\n",
    "\n",
    "    def evaluate(self):\n",
    "        df = pd.read_csv(self.config.test_data_path)\n",
    "        X = df.drop([self.config.target_column], axis=1)\n",
    "        y = df[self.config.target_column]\n",
    "\n",
    "        model = load_bin(path=Path(self.config.model_path))\n",
    "\n",
    "        try:\n",
    "            pred = model.predict(X)\n",
    "            pred_proba = model.predict_proba(X)[:, 1]\n",
    "        except Exception as e:\n",
    "            logger.info(\"Can't predict with main model\")\n",
    "            raise e\n",
    "\n",
    "        logger.info(f\"predicted {pred.shape[0]} data points\")\n",
    "    \n",
    "        self._eval_metrics(y, pred, self.config.root_dir)\n",
    "        self._eval_pics(y, pred_proba, self.config.root_dir)\n",
    "\n",
    "        models = os.listdir(self.config.models_dir)\n",
    "        for model in models:\n",
    "            model_path = os.path.join(self.config.models_dir, model)\n",
    "            trained_model = load_bin(Path(model_path))\n",
    "\n",
    "            model_name, _ = os.path.splitext(model)\n",
    "            new_dir = os.path.join(self.config.root_dir, model_name)\n",
    "\n",
    "            try:\n",
    "                pred = trained_model.predict(X)\n",
    "                pred_proba = trained_model.predict_proba(X)[:, 1]\n",
    "            except Exception as e:\n",
    "                logger.info(f\"Can't predict with the model {model_name}\")\n",
    "                continue\n",
    "\n",
    "            logger.info(f\"predicted with {model}\")\n",
    "            \n",
    "\n",
    "            create_directories([new_dir])\n",
    "\n",
    "            self._eval_metrics(y, pred, new_dir)\n",
    "            self._eval_pics(y, pred_proba, new_dir)\n",
    "            \n",
    "\n"
   ]
  },
  {
   "cell_type": "code",
   "execution_count": 7,
   "metadata": {},
   "outputs": [
    {
     "name": "stdout",
     "output_type": "stream",
     "text": [
      "[2023-12-11 18:48:34,577: INFO: common: yaml file: config/config.yaml loaded successfully]\n",
      "[2023-12-11 18:48:34,583: INFO: common: yaml file: params.yaml loaded successfully]\n",
      "[2023-12-11 18:48:34,586: INFO: common: yaml file: schema.yaml loaded successfully]\n",
      "[2023-12-11 18:48:34,587: INFO: common: created directory at: artifacts]\n",
      "[2023-12-11 18:48:34,588: INFO: common: created directory at: artifacts/model_evaluation]\n",
      "[2023-12-11 18:48:34,647: INFO: common: binary file loaded from: artifacts/model_trainer/model.joblib]\n",
      "[2023-12-11 18:48:34,650: INFO: 2181041231: predicted 123 data points]\n",
      "[2023-12-11 18:48:34,656: INFO: 2181041231: metrics are - {'Accuracy': 0.772, 'Precision': 0.759, 'Recall': 0.976, 'F1 score': 0.854, 'roc auc score': 0.655}]\n",
      "[2023-12-11 18:48:34,657: INFO: common: json file saved at: artifacts/model_evaluation/metirc.json]\n",
      "[2023-12-11 18:48:34,657: INFO: 2181041231: (123,)]\n",
      "[2023-12-11 18:48:34,762: INFO: 2181041231: Saved the ROC curve image at artifacts/model_evaluation/roc_curve.png]\n",
      "[2023-12-11 18:48:34,870: INFO: 2181041231: Saved the cunfusion matrix image at artifacts/model_evaluation/confusion_matrix.png]\n",
      "[2023-12-11 18:48:34,871: INFO: common: binary file loaded from: artifacts/model_trainer/models/SVC.joblib]\n",
      "[2023-12-11 18:48:34,877: INFO: 2181041231: predicted with SVC.joblib]\n",
      "[2023-12-11 18:48:34,877: INFO: common: created directory at: artifacts/model_evaluation/SVC]\n",
      "[2023-12-11 18:48:34,884: INFO: 2181041231: metrics are - {'Accuracy': 0.683, 'Precision': 0.683, 'Recall': 1.0, 'F1 score': 0.812, 'roc auc score': 0.5}]\n",
      "[2023-12-11 18:48:34,884: INFO: common: json file saved at: artifacts/model_evaluation/SVC/metirc.json]\n",
      "[2023-12-11 18:48:34,885: INFO: 2181041231: (123,)]\n",
      "[2023-12-11 18:48:34,976: INFO: 2181041231: Saved the ROC curve image at artifacts/model_evaluation/SVC/roc_curve.png]\n",
      "[2023-12-11 18:48:35,077: INFO: 2181041231: Saved the cunfusion matrix image at artifacts/model_evaluation/SVC/confusion_matrix.png]\n",
      "[2023-12-11 18:48:35,078: INFO: common: binary file loaded from: artifacts/model_trainer/models/Decision_Tree.joblib]\n",
      "[2023-12-11 18:48:35,080: INFO: 2181041231: predicted with Decision_Tree.joblib]\n",
      "[2023-12-11 18:48:35,081: INFO: common: created directory at: artifacts/model_evaluation/Decision_Tree]\n",
      "[2023-12-11 18:48:35,086: INFO: 2181041231: metrics are - {'Accuracy': 0.772, 'Precision': 0.759, 'Recall': 0.976, 'F1 score': 0.854, 'roc auc score': 0.655}]\n",
      "[2023-12-11 18:48:35,087: INFO: common: json file saved at: artifacts/model_evaluation/Decision_Tree/metirc.json]\n",
      "[2023-12-11 18:48:35,088: INFO: 2181041231: (123,)]\n",
      "[2023-12-11 18:48:35,176: INFO: 2181041231: Saved the ROC curve image at artifacts/model_evaluation/Decision_Tree/roc_curve.png]\n",
      "[2023-12-11 18:48:35,272: INFO: 2181041231: Saved the cunfusion matrix image at artifacts/model_evaluation/Decision_Tree/confusion_matrix.png]\n",
      "[2023-12-11 18:48:35,313: INFO: common: binary file loaded from: artifacts/model_trainer/models/Random_Forest.joblib]\n",
      "[2023-12-11 18:48:35,325: INFO: 2181041231: predicted with Random_Forest.joblib]\n",
      "[2023-12-11 18:48:35,326: INFO: common: created directory at: artifacts/model_evaluation/Random_Forest]\n",
      "[2023-12-11 18:48:35,331: INFO: 2181041231: metrics are - {'Accuracy': 0.756, 'Precision': 0.755, 'Recall': 0.952, 'F1 score': 0.842, 'roc auc score': 0.643}]\n",
      "[2023-12-11 18:48:35,332: INFO: common: json file saved at: artifacts/model_evaluation/Random_Forest/metirc.json]\n",
      "[2023-12-11 18:48:35,332: INFO: 2181041231: (123,)]\n",
      "[2023-12-11 18:48:35,416: INFO: 2181041231: Saved the ROC curve image at artifacts/model_evaluation/Random_Forest/roc_curve.png]\n",
      "[2023-12-11 18:48:35,511: INFO: 2181041231: Saved the cunfusion matrix image at artifacts/model_evaluation/Random_Forest/confusion_matrix.png]\n"
     ]
    }
   ],
   "source": [
    "try:\n",
    "    config = ConfigurationManager()\n",
    "    model_evaluation_config = config.get_model_evaluation_config()\n",
    "    model_evaluation_config = ModelEvaluation(config=model_evaluation_config)\n",
    "    model_evaluation_config.evaluate()\n",
    "except Exception as e:\n",
    "    raise e"
   ]
  },
  {
   "cell_type": "code",
   "execution_count": 8,
   "metadata": {},
   "outputs": [
    {
     "ename": "FileNotFoundError",
     "evalue": "[Errno 2] No such file or directory: './artifacts/model_trainer/models/'",
     "output_type": "error",
     "traceback": [
      "\u001b[0;31m---------------------------------------------------------------------------\u001b[0m",
      "\u001b[0;31mFileNotFoundError\u001b[0m                         Traceback (most recent call last)",
      "Cell \u001b[0;32mIn[8], line 3\u001b[0m\n\u001b[1;32m      1\u001b[0m \u001b[38;5;28;01mimport\u001b[39;00m \u001b[38;5;21;01mos\u001b[39;00m\n\u001b[1;32m      2\u001b[0m os\u001b[38;5;241m.\u001b[39mchdir(\u001b[38;5;124m\"\u001b[39m\u001b[38;5;124m../\u001b[39m\u001b[38;5;124m\"\u001b[39m)\n\u001b[0;32m----> 3\u001b[0m \u001b[43mos\u001b[49m\u001b[38;5;241;43m.\u001b[39;49m\u001b[43mlistdir\u001b[49m\u001b[43m(\u001b[49m\u001b[38;5;124;43m\"\u001b[39;49m\u001b[38;5;124;43m./artifacts/model_trainer/models/\u001b[39;49m\u001b[38;5;124;43m\"\u001b[39;49m\u001b[43m)\u001b[49m\n",
      "\u001b[0;31mFileNotFoundError\u001b[0m: [Errno 2] No such file or directory: './artifacts/model_trainer/models/'"
     ]
    }
   ],
   "source": [
    "import os\n",
    "os.chdir(\"../\")\n",
    "os.listdir(\"./artifacts/model_trainer/models/\")"
   ]
  },
  {
   "cell_type": "code",
   "execution_count": null,
   "metadata": {},
   "outputs": [],
   "source": []
  }
 ],
 "metadata": {
  "kernelspec": {
   "display_name": "loanpred",
   "language": "python",
   "name": "python3"
  },
  "language_info": {
   "codemirror_mode": {
    "name": "ipython",
    "version": 3
   },
   "file_extension": ".py",
   "mimetype": "text/x-python",
   "name": "python",
   "nbconvert_exporter": "python",
   "pygments_lexer": "ipython3",
   "version": "3.8.18"
  }
 },
 "nbformat": 4,
 "nbformat_minor": 2
}
