{
 "cells": [
  {
   "cell_type": "code",
   "execution_count": 1,
   "metadata": {},
   "outputs": [
    {
     "data": {
      "text/plain": [
       "'/home/izam/coding/Loan-Prediction-System'"
      ]
     },
     "execution_count": 1,
     "metadata": {},
     "output_type": "execute_result"
    }
   ],
   "source": [
    "import os\n",
    "os.chdir(\"../\")\n",
    "os.getcwd()"
   ]
  },
  {
   "cell_type": "code",
   "execution_count": 2,
   "metadata": {},
   "outputs": [],
   "source": [
    "from dataclasses import dataclass\n",
    "from pathlib import Path\n",
    "\n",
    "\n",
    "@dataclass(frozen=True)\n",
    "class ModelEvaluationConfig:\n",
    "    root_dir: Path\n",
    "    test_data_path: Path\n",
    "    model_path: Path\n",
    "    metric_file_name: Path\n",
    "    target_column: str"
   ]
  },
  {
   "cell_type": "code",
   "execution_count": 3,
   "metadata": {},
   "outputs": [],
   "source": [
    "from loanPrediction.constants import *\n",
    "from loanPrediction.utils.common import read_yaml, create_directories, save_json"
   ]
  },
  {
   "cell_type": "code",
   "execution_count": 4,
   "metadata": {},
   "outputs": [],
   "source": [
    "class ConfigurationManager:\n",
    "    def __init__(\n",
    "        self,\n",
    "        config_filepath = CONFIG_FILE_PATH,\n",
    "        params_filepath = PARAMS_FILE_PATH,\n",
    "        schema_filepath = SCHEMA_FILE_PATH):\n",
    "\n",
    "        self.config = read_yaml(config_filepath)\n",
    "        self.params = read_yaml(params_filepath)\n",
    "        self.schema = read_yaml(schema_filepath)\n",
    "\n",
    "        create_directories([self.config.artifacts_root])\n",
    "\n",
    "    \n",
    "    def get_model_evaluation_config(self) -> ModelEvaluationConfig:\n",
    "        config = self.config.model_evaluation\n",
    "        schema =  self.schema.TARGET_COLUMN\n",
    "\n",
    "        create_directories([config.root_dir])\n",
    "\n",
    "        model_evaluation_config = ModelEvaluationConfig(\n",
    "            root_dir=config.root_dir,\n",
    "            test_data_path=config.test_data_path,\n",
    "            model_path = config.model_path,\n",
    "            metric_file_name = config.metric_file_name,\n",
    "            target_column = schema.name,\n",
    "           \n",
    "        )\n",
    "\n",
    "        return model_evaluation_config"
   ]
  },
  {
   "cell_type": "code",
   "execution_count": 5,
   "metadata": {},
   "outputs": [],
   "source": [
    "import os\n",
    "import pandas as pd\n",
    "from sklearn.metrics import accuracy_score, precision_score, recall_score, f1_score, roc_auc_score, roc_curve, auc\n",
    "from sklearn.metrics import confusion_matrix\n",
    "from loanPrediction.utils.common import load_bin, save_json, round_batch\n",
    "from loanPrediction import logger\n",
    "import matplotlib.pyplot as plt\n",
    "import seaborn as sns"
   ]
  },
  {
   "cell_type": "code",
   "execution_count": 6,
   "metadata": {},
   "outputs": [],
   "source": [
    "class ModelEvaluation:\n",
    "    def __init__(self, config: ModelEvaluationConfig):\n",
    "        self.config = config\n",
    "    \n",
    "\n",
    "    def _eval_metrics(self,actual, pred):\n",
    "        acc = accuracy_score(actual, pred)\n",
    "        precision = precision_score(actual, pred)\n",
    "        recall = recall_score(actual, pred)\n",
    "        f1 = f1_score(actual, pred)\n",
    "        rocauc_score = roc_auc_score(actual, pred)\n",
    "\n",
    "        return round_batch(acc, precision, recall, f1, rocauc_score)\n",
    "    \n",
    "    def _eval_pics(self, actual, pred_proba):\n",
    "        logger.info(actual.shape)\n",
    "        fpr, tpr, thresholds = roc_curve(actual, pred_proba)\n",
    "        roc_auc = auc(fpr, tpr)\n",
    "\n",
    "        # Plot ROC curve\n",
    "        plt.figure(figsize=(8, 6))\n",
    "        plt.plot(fpr, tpr, color='darkorange', lw=2, label='ROC curve (AUC = {:.2f})'.format(roc_auc))\n",
    "        plt.plot([0, 1], [0, 1], color='navy', lw=2, linestyle='--', label='Random Guessing')\n",
    "        plt.xlabel('False Positive Rate (FPR)')\n",
    "        plt.ylabel('True Positive Rate (TPR)')\n",
    "        plt.title('Receiver Operating Characteristic (ROC) Curve')\n",
    "        plt.legend(loc='lower right')\n",
    "\n",
    "        plt.savefig(os.path.join(self.config.root_dir, \"roc_curve.png\"))\n",
    "        plt.close()\n",
    "        logger.info(f\"Saved the ROC curve image at {os.path.join(self.config.root_dir, 'roc_curve.png')}\")\n",
    "\n",
    "        #confusion matrix\n",
    "        y_pred = (pred_proba > 0.5).astype(int)\n",
    "        cm = confusion_matrix(actual, y_pred)\n",
    "        plt.figure(figsize=(8, 6))\n",
    "        sns.heatmap(cm, annot=True, fmt='d', cmap='Blues', annot_kws={\"size\": 16})\n",
    "        plt.xlabel('Predicted Labels')\n",
    "        plt.ylabel('True Labels')\n",
    "        plt.title('Confusion Matrix')\n",
    "\n",
    "        plt.savefig(os.path.join(self.config.root_dir, \"confusion_matrix.png\"))\n",
    "        plt.close()\n",
    "        logger.info(f\"Saved the cunfusion matrix image at {os.path.join(self.config.root_dir, 'confusion_matrix.png')}\")\n",
    "\n",
    "\n",
    "    def evaluate(self):\n",
    "        df = pd.read_csv(self.config.test_data_path)\n",
    "        X = df.drop([self.config.target_column], axis=1)\n",
    "        y = df[self.config.target_column]\n",
    "\n",
    "        model = load_bin(path=Path(self.config.model_path))\n",
    "        pred = model.predict(X)\n",
    "        pred_proba = model.predict_proba(X)[:, 1]\n",
    "\n",
    "        logger.info(f\"predicted {pred.shape[0]} data points\")\n",
    "    \n",
    "        acc, precision, recall, f1, rocauc_score = self._eval_metrics(y, pred)\n",
    "        self._eval_pics(y, pred_proba)\n",
    "\n",
    "        metric = {\n",
    "            \"Accuracy\" : acc,\n",
    "            \"Precision\" : precision,\n",
    "            \"Recall\": recall,\n",
    "            \"F1 score\": f1,\n",
    "            \"roc auc score\": rocauc_score,\n",
    "        }\n",
    "\n",
    "        logger.info(f\"metrics are - {metric}\")\n",
    "\n",
    "        save_json(path=Path(self.config.metric_file_name), data=metric)"
   ]
  },
  {
   "cell_type": "code",
   "execution_count": 7,
   "metadata": {},
   "outputs": [
    {
     "name": "stdout",
     "output_type": "stream",
     "text": [
      "[2023-12-11 18:03:25,758: INFO: common: yaml file: config/config.yaml loaded successfully]\n",
      "[2023-12-11 18:03:25,764: INFO: common: yaml file: params.yaml loaded successfully]\n",
      "[2023-12-11 18:03:25,767: INFO: common: yaml file: schema.yaml loaded successfully]\n",
      "[2023-12-11 18:03:25,767: INFO: common: created directory at: artifacts]\n",
      "[2023-12-11 18:03:25,768: INFO: common: created directory at: artifacts/model_evaluation]\n",
      "[2023-12-11 18:03:25,809: INFO: common: binary file loaded from: artifacts/model_trainer/model.joblib]\n",
      "[2023-12-11 18:03:25,812: INFO: 2867332010: predicted 123 data points]\n",
      "[2023-12-11 18:03:25,821: INFO: 2867332010: (123,)]\n",
      "[2023-12-11 18:03:25,961: INFO: 2867332010: Saved the ROC curve image at artifacts/model_evaluation/roc_curve.png]\n",
      "[2023-12-11 18:03:26,067: INFO: 2867332010: Saved the cunfusion matrix image at artifacts/model_evaluation/confusion_matrix.png]\n",
      "[2023-12-11 18:03:26,068: INFO: 2867332010: metrics are - {'Accuracy': 0.772, 'Precision': 0.759, 'Recall': 0.976, 'F1 score': 0.854, 'roc auc score': 0.655}]\n",
      "[2023-12-11 18:03:26,068: INFO: common: json file saved at: artifacts/model_evaluation/metrics.json]\n"
     ]
    }
   ],
   "source": [
    "try:\n",
    "    config = ConfigurationManager()\n",
    "    model_evaluation_config = config.get_model_evaluation_config()\n",
    "    model_evaluation_config = ModelEvaluation(config=model_evaluation_config)\n",
    "    model_evaluation_config.evaluate()\n",
    "except Exception as e:\n",
    "    raise e"
   ]
  }
 ],
 "metadata": {
  "kernelspec": {
   "display_name": "loanpred",
   "language": "python",
   "name": "python3"
  },
  "language_info": {
   "codemirror_mode": {
    "name": "ipython",
    "version": 3
   },
   "file_extension": ".py",
   "mimetype": "text/x-python",
   "name": "python",
   "nbconvert_exporter": "python",
   "pygments_lexer": "ipython3",
   "version": "3.8.18"
  }
 },
 "nbformat": 4,
 "nbformat_minor": 2
}
