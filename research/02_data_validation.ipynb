{
 "cells": [
  {
   "cell_type": "code",
   "execution_count": 1,
   "metadata": {},
   "outputs": [
    {
     "data": {
      "text/plain": [
       "'/home/izam/coding/Loan-Prediction-System'"
      ]
     },
     "execution_count": 1,
     "metadata": {},
     "output_type": "execute_result"
    }
   ],
   "source": [
    "import os\n",
    "os.chdir(\"../\")\n",
    "os.getcwd()"
   ]
  },
  {
   "cell_type": "code",
   "execution_count": 2,
   "metadata": {},
   "outputs": [],
   "source": [
    "from dataclasses import dataclass\n",
    "from pathlib import Path\n",
    "\n",
    "\n",
    "@dataclass(frozen=True)\n",
    "class DataValidationConfig:\n",
    "    root_dir: Path\n",
    "    STATUS_FILE: str\n",
    "    unzip_data_dir: Path\n",
    "    all_schema: dict\n",
    "    target_col: str\n",
    "    nan_ratio: float\n",
    "    categories: dict"
   ]
  },
  {
   "cell_type": "code",
   "execution_count": 3,
   "metadata": {},
   "outputs": [],
   "source": [
    "from loanPrediction.constants import *\n",
    "from loanPrediction.utils.common import read_yaml, create_directories"
   ]
  },
  {
   "cell_type": "code",
   "execution_count": 4,
   "metadata": {},
   "outputs": [],
   "source": [
    "class ConfigurationManager:\n",
    "    def __init__(\n",
    "        self,\n",
    "        config_filepath = CONFIG_FILE_PATH,\n",
    "        params_filepath = PARAMS_FILE_PATH,\n",
    "        schema_filepath = SCHEMA_FILE_PATH):\n",
    "\n",
    "        self.config = read_yaml(config_filepath)\n",
    "        self.params = read_yaml(params_filepath)\n",
    "        self.schema = read_yaml(schema_filepath)\n",
    "\n",
    "        create_directories([self.config.artifacts_root])\n",
    "\n",
    "\n",
    "    \n",
    "    def get_data_validation_config(self) -> DataValidationConfig:\n",
    "        config = self.config.data_validation\n",
    "        schema = self.schema.COLUMNS\n",
    "        target_col = self.schema.TARGET_COLUMN\n",
    "        nan_ratio = self.schema.COL_NAN_RATIO\n",
    "        categories = self.schema.CATEGORIES\n",
    "\n",
    "        create_directories([config.root_dir])\n",
    "\n",
    "        data_validation_config = DataValidationConfig(\n",
    "            root_dir=config.root_dir,\n",
    "            STATUS_FILE=config.STATUS_FILE,\n",
    "            unzip_data_dir = config.unzip_data_dir,\n",
    "            all_schema=schema,\n",
    "            target_col=target_col.name,\n",
    "            nan_ratio=nan_ratio,\n",
    "            categories=categories,\n",
    "        )\n",
    "\n",
    "        return data_validation_config"
   ]
  },
  {
   "cell_type": "code",
   "execution_count": 5,
   "metadata": {},
   "outputs": [],
   "source": [
    "import os\n",
    "from loanPrediction import logger\n",
    "import pandas as pd\n",
    "from loanPrediction.utils.common import is_nan"
   ]
  },
  {
   "cell_type": "code",
   "execution_count": 6,
   "metadata": {},
   "outputs": [],
   "source": [
    "class DataValiadtion:\n",
    "    def __init__(self, config: DataValidationConfig):\n",
    "        self.config = config\n",
    "        self.data = pd.read_csv(self.config.unzip_data_dir)\n",
    "\n",
    "\n",
    "    def _validate_all_columns(self)-> bool:\n",
    "        try:\n",
    "            all_cols = list(self.data.columns)\n",
    "            all_schema = self.config.all_schema.keys()\n",
    "\n",
    "            validation_status = True\n",
    "            for col in all_schema:\n",
    "                if col not in all_cols:\n",
    "                    validation_status = False\n",
    "                \n",
    "\n",
    "            return validation_status\n",
    "        \n",
    "        except Exception as e:\n",
    "            raise e\n",
    "        \n",
    "    def _validate_na_values(self) -> bool:\n",
    "        try:\n",
    "            total_rows = len(self.data)\n",
    "            threshold = total_rows * self.config.nan_ratio\n",
    "            all_cols = list(self.data.columns)\n",
    "            na_values = self.data.isna().sum()\n",
    "\n",
    "            validation_status = True\n",
    "            for col in all_cols:\n",
    "                if na_values[col] > threshold:\n",
    "                    validation_status = False\n",
    "\n",
    "            return validation_status\n",
    "\n",
    "        except Exception as e:\n",
    "            raise e\n",
    "\n",
    "    def _validate_categories(self) -> bool:\n",
    "        try:\n",
    "            categories = self.config.categories\n",
    "            data = self.data\n",
    "\n",
    "            validation_status = True\n",
    "            for col in categories:\n",
    "                for category in data[col].unique():\n",
    "                    if category not in categories[col] and is_nan(category)==False:\n",
    "                        validation_status = False\n",
    "            \n",
    "            return validation_status\n",
    "\n",
    "        except Exception as e:\n",
    "            raise e\n",
    "        \n",
    "    def final_validation(self) -> bool:\n",
    "        try:\n",
    "            validation_column = self._validate_all_columns()\n",
    "            validation_na = self._validate_na_values()\n",
    "            validation_categories = self._validate_categories()\n",
    "\n",
    "            if validation_column and validation_na and validation_categories:\n",
    "                validation_all = True\n",
    "            else:\n",
    "                validation_all = False\n",
    "\n",
    "            with open(self.config.STATUS_FILE, 'w') as f:\n",
    "                f.write(f\"Validation column status: {validation_column}\\\n",
    "                        \\nValidation NA values status: {validation_na}\\\n",
    "                        \\nValidation categorical columns: {validation_categories}\\\n",
    "                        \\n\\nValidation all: {validation_all}\")\n",
    "                \n",
    "\n",
    "        except Exception as e:\n",
    "            raise e"
   ]
  },
  {
   "cell_type": "code",
   "execution_count": 7,
   "metadata": {},
   "outputs": [
    {
     "name": "stdout",
     "output_type": "stream",
     "text": [
      "[2023-12-11 12:30:41,430: INFO: common: yaml file: config/config.yaml loaded successfully]\n",
      "[2023-12-11 12:30:41,433: INFO: common: yaml file: params.yaml loaded successfully]\n",
      "[2023-12-11 12:30:41,437: INFO: common: yaml file: schema.yaml loaded successfully]\n",
      "[2023-12-11 12:30:41,438: INFO: common: created directory at: artifacts]\n",
      "[2023-12-11 12:30:41,439: INFO: common: created directory at: artifacts/data_validation]\n"
     ]
    }
   ],
   "source": [
    "try:\n",
    "    config = ConfigurationManager()\n",
    "    data_validation_config = config.get_data_validation_config()\n",
    "    data_validation = DataValiadtion(config=data_validation_config)\n",
    "    data_validation.final_validation()\n",
    "except Exception as e:\n",
    "    raise e"
   ]
  }
 ],
 "metadata": {
  "kernelspec": {
   "display_name": "loanpred",
   "language": "python",
   "name": "python3"
  },
  "language_info": {
   "codemirror_mode": {
    "name": "ipython",
    "version": 3
   },
   "file_extension": ".py",
   "mimetype": "text/x-python",
   "name": "python",
   "nbconvert_exporter": "python",
   "pygments_lexer": "ipython3",
   "version": "3.8.18"
  }
 },
 "nbformat": 4,
 "nbformat_minor": 2
}
