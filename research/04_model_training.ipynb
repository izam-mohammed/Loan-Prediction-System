{
 "cells": [
  {
   "cell_type": "code",
   "execution_count": 1,
   "metadata": {},
   "outputs": [
    {
     "data": {
      "text/plain": [
       "'/home/izam/coding/Loan-Prediction-System'"
      ]
     },
     "execution_count": 1,
     "metadata": {},
     "output_type": "execute_result"
    }
   ],
   "source": [
    "import os\n",
    "os.chdir(\"../\")\n",
    "os.getcwd()"
   ]
  },
  {
   "cell_type": "code",
   "execution_count": 2,
   "metadata": {},
   "outputs": [],
   "source": [
    "from dataclasses import dataclass\n",
    "from pathlib import Path\n",
    "\n",
    "# entity\n",
    "@dataclass(frozen=True)\n",
    "class ModelTrainerConfig:\n",
    "    root_dir: Path\n",
    "    train_data_path: Path\n",
    "    test_data_path: Path\n",
    "    model_name: str\n",
    "    params: dict"
   ]
  },
  {
   "cell_type": "code",
   "execution_count": 3,
   "metadata": {},
   "outputs": [],
   "source": [
    "from sentimentAnalysis.constants import *\n",
    "from sentimentAnalysis.utils.common import read_yaml, create_directories"
   ]
  },
  {
   "cell_type": "code",
   "execution_count": 4,
   "metadata": {},
   "outputs": [],
   "source": [
    "class ConfigurationManager:\n",
    "    def __init__(\n",
    "        self,\n",
    "        config_filepath = CONFIG_FILE_PATH,\n",
    "        params_filepath = PARAMS_FILE_PATH,\n",
    "        schema_filepath = SCHEMA_FILE_PATH):\n",
    "\n",
    "        self.config = read_yaml(config_filepath)\n",
    "        self.params = read_yaml(params_filepath)\n",
    "        self.schema = read_yaml(schema_filepath)\n",
    "\n",
    "        create_directories([self.config.artifacts_root])\n",
    "\n",
    "\n",
    "    \n",
    "    def get_model_trainer_config(self) -> ModelTrainerConfig:\n",
    "        config = self.config.model_trainer\n",
    "\n",
    "        create_directories([config.root_dir])\n",
    "\n",
    "        model_trainer_config = ModelTrainerConfig(\n",
    "            root_dir=config.root_dir,\n",
    "            train_data_path = config.train_data_path,\n",
    "            test_data_path = config.test_data_path,\n",
    "            model_name = config.model_name,\n",
    "            params = self.params,\n",
    "        )\n",
    "\n",
    "        return model_trainer_config"
   ]
  },
  {
   "cell_type": "code",
   "execution_count": 5,
   "metadata": {},
   "outputs": [],
   "source": [
    "from sklearn.model_selection import RandomizedSearchCV\n",
    "import pandas as pd\n",
    "from loanPrediction import logger\n",
    "from sklearn.metrics import accuracy_score\n",
    "from sklearn.tree import DecisionTreeClassifier\n",
    "from sklearn.ensemble import RandomForestClassifier\n",
    "from box import ConfigBox\n",
    "from sklearn.svm import SVC\n",
    "from loanPrediction.utils.common import save_bin"
   ]
  },
  {
   "cell_type": "code",
   "execution_count": 6,
   "metadata": {},
   "outputs": [],
   "source": [
    "class ModelTrainer:\n",
    "    def __init__(self, config: ModelTrainerConfig):\n",
    "        self.config = config\n",
    "        train = pd.read_csv(self.config.train_data_path)\n",
    "        test = pd.read_csv(self.config.test_data_path)\n",
    "\n",
    "        self.X_train= train.drop([\"Loan_Status\"], axis=1)\n",
    "        self.y_train = train[\"Loan_Status\"]\n",
    "        self.X_test = test.drop([\"Loan_Status\"], axis=1)\n",
    "        self.y_test = test[\"Loan_Status\"]   \n",
    "\n",
    "\n",
    "    def _randomized_search(self, name,clf,params, runs=20): \n",
    "        \n",
    "        rand_clf = RandomizedSearchCV(clf, params, n_iter=runs, cv=5, n_jobs=-1, random_state=2)     \n",
    "\n",
    "        rand_clf.fit(self.X_train, self.y_train) \n",
    "        best_model = rand_clf.best_estimator_\n",
    "        \n",
    "        # Extract best score\n",
    "        best_score = rand_clf.best_score_\n",
    "\n",
    "        # Print best score\n",
    "        logger.info(\"Trained with {} with score: {:.3f}\".format(name, best_score))\n",
    "\n",
    "        # Predict test set labels\n",
    "        y_pred = best_model.predict(self.X_test)\n",
    "\n",
    "        # Compute accuracy\n",
    "        accuracy = accuracy_score(self.y_test, y_pred)\n",
    "\n",
    "        # Print accuracy\n",
    "        logger.info('Predicted with {} ; Test score : {:.3f}'.format(name, accuracy))\n",
    "        \n",
    "        return best_model, accuracy\n",
    "        \n",
    "\n",
    "    def train(self):\n",
    "        model_params = self.config.params\n",
    "\n",
    "        models = ConfigBox({\n",
    "            \"Decision_Tree\": {\n",
    "                \"model\" : DecisionTreeClassifier(),\n",
    "                \"params\" : model_params.Decision_Tree\n",
    "            },\n",
    "            \"Random_Forest\": {\n",
    "                \"model\" : RandomForestClassifier(),\n",
    "                \"params\" : model_params.Random_Forest\n",
    "            },\n",
    "            \"SVC\": {\n",
    "                \"model\" : SVC(),\n",
    "                \"params\" : model_params.SVC\n",
    "            }\n",
    "        })\n",
    "\n",
    "        create_directories([os.path.join(self.config.root_dir, \"models\")])\n",
    "        trained_models = []\n",
    "        for model in models:\n",
    "            clf = models[model].model\n",
    "            params = models[model].params\n",
    "\n",
    "            clf_model, score = self._randomized_search(name=str(model) ,clf=clf, params=params)\n",
    "            trained_models.append((clf_model, score))\n",
    "\n",
    "            save_bin(data=clf_model, path=Path(os.path.join(self.config.root_dir, f\"models/{str(model)}.joblib\")))\n",
    "        \n",
    "        trained_models = sorted(trained_models, key=lambda x:x[1], reverse=True)  # [(model, score), (model, score), ..]\n",
    "        best_model = trained_models[0][0]  # taking the model\n",
    "\n",
    "        save_bin(data=best_model, path=Path(os.path.join(self.config.root_dir, self.config.model_name)))\n",
    "\n",
    "        best_model_name = str(best_model)[:str(best_model).find(\"(\")]\n",
    "        best_model_score = round(trained_models[0][1], 3)\n",
    "        logger.info(f\"Saved main model as {best_model_name}, with score - {best_model_score}\")\n",
    "\n"
   ]
  },
  {
   "cell_type": "code",
   "execution_count": 7,
   "metadata": {},
   "outputs": [
    {
     "name": "stdout",
     "output_type": "stream",
     "text": [
      "[2023-12-11 16:59:14,652: INFO: common: yaml file: config/config.yaml loaded successfully]\n",
      "[2023-12-11 16:59:14,657: INFO: common: yaml file: params.yaml loaded successfully]\n",
      "[2023-12-11 16:59:14,660: INFO: common: yaml file: schema.yaml loaded successfully]\n",
      "[2023-12-11 16:59:14,660: INFO: common: created directory at: artifacts]\n",
      "[2023-12-11 16:59:14,661: INFO: common: created directory at: artifacts/model_trainer]\n",
      "[2023-12-11 16:59:14,666: INFO: common: created directory at: artifacts/model_trainer/models]\n",
      "[2023-12-11 16:59:16,574: INFO: 4220509917: Trained with Decision_Tree with score: 0.819]\n",
      "[2023-12-11 16:59:16,577: INFO: 4220509917: Predicted with Decision_Tree ; Test score : 0.772]\n",
      "[2023-12-11 16:59:16,579: INFO: common: binary file saved at: artifacts/model_trainer/models/Decision_Tree.joblib]\n",
      "[2023-12-11 16:59:18,025: INFO: 4220509917: Trained with Random_Forest with score: 0.819]\n",
      "[2023-12-11 16:59:18,032: INFO: 4220509917: Predicted with Random_Forest ; Test score : 0.756]\n",
      "[2023-12-11 16:59:18,063: INFO: common: binary file saved at: artifacts/model_trainer/models/Random_Forest.joblib]\n"
     ]
    },
    {
     "name": "stderr",
     "output_type": "stream",
     "text": [
      "/home/izam/miniconda3/envs/loanpred/lib/python3.8/site-packages/sklearn/model_selection/_search.py:307: UserWarning: The total space of parameters 11 is smaller than n_iter=20. Running 11 iterations. For exhaustive searches, use GridSearchCV.\n",
      "  warnings.warn(\n"
     ]
    },
    {
     "name": "stdout",
     "output_type": "stream",
     "text": [
      "[2023-12-11 16:59:18,453: INFO: 4220509917: Trained with SVC with score: 0.688]\n",
      "[2023-12-11 16:59:18,456: INFO: 4220509917: Predicted with SVC ; Test score : 0.683]\n",
      "[2023-12-11 16:59:18,457: INFO: common: binary file saved at: artifacts/model_trainer/models/SVC.joblib]\n",
      "[2023-12-11 16:59:18,458: INFO: common: binary file saved at: artifacts/model_trainer/model.joblib]\n",
      "[2023-12-11 16:59:18,459: INFO: 4220509917: Saved main model as DecisionTreeClassifier, with score - 0.772]\n"
     ]
    }
   ],
   "source": [
    "try:\n",
    "    config = ConfigurationManager()\n",
    "    model_trainer_config = config.get_model_trainer_config()\n",
    "    model_trainer_config = ModelTrainer(config=model_trainer_config)\n",
    "    model_trainer_config.train()\n",
    "except Exception as e:\n",
    "    raise e"
   ]
  }
 ],
 "metadata": {
  "kernelspec": {
   "display_name": "loanpred",
   "language": "python",
   "name": "python3"
  },
  "language_info": {
   "codemirror_mode": {
    "name": "ipython",
    "version": 3
   },
   "file_extension": ".py",
   "mimetype": "text/x-python",
   "name": "python",
   "nbconvert_exporter": "python",
   "pygments_lexer": "ipython3",
   "version": "3.8.18"
  }
 },
 "nbformat": 4,
 "nbformat_minor": 2
}
